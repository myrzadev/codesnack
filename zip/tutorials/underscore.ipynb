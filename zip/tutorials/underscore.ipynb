{
 "cells": [
  {
   "cell_type": "markdown",
   "metadata": {},
   "source": [
    "### 2 Different Meanings of Underscore **(_)** in Python!\n",
    "Hi! 🚀 Get quick tips how **underscore** in Python works."
   ]
  },
  {
   "cell_type": "markdown",
   "metadata": {},
   "source": [
    "🔥 Separating Digits of Numbers to improving readability"
   ]
  },
  {
   "cell_type": "code",
   "execution_count": 1,
   "metadata": {},
   "outputs": [
    {
     "name": "stdout",
     "output_type": "stream",
     "text": [
      "1000000\n",
      "<class 'int'>\n"
     ]
    }
   ],
   "source": [
    "# Connect us on Twitter @myrzadev\n",
    "\n",
    "integer = 1_000_000\n",
    "\n",
    "print(integer)\n",
    "print(type(integer))"
   ]
  },
  {
   "cell_type": "markdown",
   "metadata": {},
   "source": [
    "🔥 Ignoring values and use in loops"
   ]
  },
  {
   "cell_type": "code",
   "execution_count": 2,
   "metadata": {},
   "outputs": [
    {
     "name": "stdout",
     "output_type": "stream",
     "text": [
      "Code One\n",
      "Key: Code One, _: 100\n",
      "Code Two\n",
      "Key: Code Two, _: 200\n"
     ]
    }
   ],
   "source": [
    "city_tuple = ((\"Code One\", 100),\n",
    "              (\"Code Two\", 200))\n",
    "\n",
    "for key, _ in city_tuple:\n",
    "    print(key)\n",
    "    print(f\"Key: {key}, _: {_}\")"
   ]
  },
  {
   "cell_type": "code",
   "execution_count": 3,
   "metadata": {},
   "outputs": [
    {
     "name": "stdout",
     "output_type": "stream",
     "text": [
      "2021 4 10\n"
     ]
    }
   ],
   "source": [
    "year, month, day, _, _, _ = \\\n",
    "    (2021, 4, 10, 12, 15, 50)\n",
    "    \n",
    "print(year, month, day)"
   ]
  },
  {
   "cell_type": "code",
   "execution_count": 4,
   "metadata": {},
   "outputs": [
    {
     "name": "stdout",
     "output_type": "stream",
     "text": [
      "Ignore index\n",
      "Ignore index\n",
      "Ignore index\n"
     ]
    }
   ],
   "source": [
    "def do_something():\n",
    "    print(\"Ignore index\")\n",
    "\n",
    "\n",
    "for _ in range(3):\n",
    "    do_something()"
   ]
  }
 ],
 "metadata": {
  "kernelspec": {
   "display_name": "Python 3.9.5 64-bit",
   "language": "python",
   "name": "python3"
  },
  "language_info": {
   "codemirror_mode": {
    "name": "ipython",
    "version": 3
   },
   "file_extension": ".py",
   "mimetype": "text/x-python",
   "name": "python",
   "nbconvert_exporter": "python",
   "pygments_lexer": "ipython3",
   "version": "3.9.5"
  },
  "orig_nbformat": 4,
  "vscode": {
   "interpreter": {
    "hash": "f9f85f796d01129d0dd105a088854619f454435301f6ffec2fea96ecbd9be4ac"
   }
  }
 },
 "nbformat": 4,
 "nbformat_minor": 2
}
