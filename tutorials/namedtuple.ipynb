{
 "cells": [
  {
   "cell_type": "markdown",
   "metadata": {},
   "source": [
    "### Write Pythonic and Clean Code with **namedtuple** in Python!\n",
    "Hi! 🚀 Get quick tips how to use **namedtuple** in Python.\n",
    "\n",
    "With `namedtuple()` you can create immutable sequence types that allow you to \n",
    "access their values using descriptive field names and the dot notation instead of unclear integer indices."
   ]
  },
  {
   "cell_type": "markdown",
   "metadata": {},
   "source": [
    "📌 Use Python dictionary"
   ]
  },
  {
   "cell_type": "code",
   "execution_count": 1,
   "metadata": {},
   "outputs": [
    {
     "name": "stdout",
     "output_type": "stream",
     "text": [
      "55\n"
     ]
    }
   ],
   "source": [
    "# Connect us on Twitter @myrzadev\n",
    "# Page 1/3\n",
    "\n",
    "from collections import namedtuple\n",
    "\n",
    "color = {'red': 55, 'green': 155, 'blue': 255}\n",
    "\n",
    "print(color['red'])"
   ]
  },
  {
   "cell_type": "markdown",
   "metadata": {},
   "source": [
    "📌 Use Python namedtuple()"
   ]
  },
  {
   "cell_type": "code",
   "execution_count": 2,
   "metadata": {},
   "outputs": [
    {
     "name": "stdout",
     "output_type": "stream",
     "text": [
      "55\n"
     ]
    }
   ],
   "source": [
    "# Page 2/3\n",
    "\n",
    "Color = namedtuple('Color', ['red', 'green', 'blue'])\n",
    "\n",
    "colors = Color(blue=55, green=155, red=255)\n",
    "\n",
    "print(colors.blue)"
   ]
  },
  {
   "cell_type": "code",
   "execution_count": 3,
   "metadata": {},
   "outputs": [
    {
     "name": "stdout",
     "output_type": "stream",
     "text": [
      "Color(red=255, green=255, blue=255)\n",
      "255\n"
     ]
    }
   ],
   "source": [
    "# Page 3/3\n",
    "\n",
    "white_color = Color(255, 255, 255)\n",
    "\n",
    "print(white_color)\n",
    "print(white_color.red)"
   ]
  }
 ],
 "metadata": {
  "kernelspec": {
   "display_name": "Python 3.9.5 64-bit",
   "language": "python",
   "name": "python3"
  },
  "language_info": {
   "codemirror_mode": {
    "name": "ipython",
    "version": 3
   },
   "file_extension": ".py",
   "mimetype": "text/x-python",
   "name": "python",
   "nbconvert_exporter": "python",
   "pygments_lexer": "ipython3",
   "version": "3.9.5"
  },
  "orig_nbformat": 4,
  "vscode": {
   "interpreter": {
    "hash": "f9f85f796d01129d0dd105a088854619f454435301f6ffec2fea96ecbd9be4ac"
   }
  }
 },
 "nbformat": 4,
 "nbformat_minor": 2
}
