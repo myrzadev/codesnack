{
 "cells": [
  {
   "cell_type": "markdown",
   "metadata": {},
   "source": [
    "### How to **merge two or more Dictionaries** in Python!\n",
    "Hi! 🚀 Get quick tips on how to **merge dictionaries** in Python.\n",
    "\n",
    "In Python, a dictionary is a data structure which contains elements in the form of a key-value pair where keys are used to access the values of the dictionary."
   ]
  },
  {
   "cell_type": "code",
   "execution_count": 1,
   "metadata": {},
   "outputs": [
    {
     "name": "stdout",
     "output_type": "stream",
     "text": [
      "{'Argentina': 'Chaco', 'Brazil': 'Salvador', 'Cyprus': 'Nicosia'}\n",
      "{'Estonia': 'Narva', 'Germany': 'Berlin'}\n"
     ]
    }
   ],
   "source": [
    "# 1/2\n",
    "\n",
    "dict_one = {\n",
    "    'Argentina': 'Chaco',\n",
    "    'Brazil': 'Salvador',\n",
    "    'Cyprus': 'Nicosia'}\n",
    "\n",
    "dict_two = {\n",
    "    'Estonia': 'Narva',\n",
    "    'Germany': 'Berlin'\n",
    "}\n",
    "\n",
    "print(dict_one)\n",
    "print(dict_two)"
   ]
  },
  {
   "cell_type": "code",
   "execution_count": 2,
   "metadata": {},
   "outputs": [
    {
     "name": "stdout",
     "output_type": "stream",
     "text": [
      "{'Argentina': 'Chaco', 'Brazil': 'Salvador', 'Cyprus': 'Nicosia', 'Estonia': 'Narva', 'Germany': 'Berlin'}\n"
     ]
    }
   ],
   "source": [
    "# 2/2\n",
    "# Connect us on Twitter @myrzadev\n",
    "\n",
    "merged_dict = dict_one.copy()\n",
    "merged_dict.update(dict_two)\n",
    "\n",
    "print(merged_dict)"
   ]
  }
 ],
 "metadata": {
  "kernelspec": {
   "display_name": "Python 3.9.5 64-bit",
   "language": "python",
   "name": "python3"
  },
  "language_info": {
   "codemirror_mode": {
    "name": "ipython",
    "version": 3
   },
   "file_extension": ".py",
   "mimetype": "text/x-python",
   "name": "python",
   "nbconvert_exporter": "python",
   "pygments_lexer": "ipython3",
   "version": "3.9.5"
  },
  "orig_nbformat": 4,
  "vscode": {
   "interpreter": {
    "hash": "f9f85f796d01129d0dd105a088854619f454435301f6ffec2fea96ecbd9be4ac"
   }
  }
 },
 "nbformat": 4,
 "nbformat_minor": 2
}
