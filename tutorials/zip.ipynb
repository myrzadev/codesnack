{
 "cells": [
  {
   "cell_type": "markdown",
   "metadata": {},
   "source": [
    "### How to use Python zip() for parallel iteration ?\n",
    "Hi! Hi! 🚀 Get quick tips how the **zip()** function works in Python.\n",
    "\n",
    "The resulting iterator can you use to sole common programming problems."
   ]
  },
  {
   "cell_type": "code",
   "execution_count": 3,
   "metadata": {},
   "outputs": [
    {
     "name": "stdout",
     "output_type": "stream",
     "text": [
      "Austria - Vienna - Europe\n",
      "Germany - Berlin - Europe\n",
      "Bosnia - Sarajevo - Europe\n",
      "USA - New York - North America\n"
     ]
    }
   ],
   "source": [
    "# Page 1/2\n",
    "# Connect us on Twitter @myrzadev\n",
    "\n",
    "country = ['Austria', 'Germany', 'Bosnia', 'USA', ]\n",
    "city = ['Vienna', 'Berlin', 'Sarajevo', 'New York']\n",
    "continent = ['Europe', 'Europe', 'Europe', 'North America']\n",
    "\n",
    "for country, city, continent in zip(country, city, continent):\n",
    "    print(f\"{country} - {city} - {continent}\")"
   ]
  },
  {
   "cell_type": "markdown",
   "metadata": {},
   "source": [
    "We can easy pack the values into **tuple**"
   ]
  },
  {
   "cell_type": "code",
   "execution_count": 4,
   "metadata": {},
   "outputs": [
    {
     "name": "stdout",
     "output_type": "stream",
     "text": [
      "('Austria', 'Vienna', 'Europe')\n",
      "('Germany', 'Berlin', 'Europe')\n",
      "('Bosnia', 'Sarajevo', 'Europe')\n",
      "('USA', 'New York', 'North America')\n"
     ]
    }
   ],
   "source": [
    "# Page 2/2\n",
    "\n",
    "country = ['Austria', 'Germany', 'Bosnia', 'USA', ]\n",
    "city = ['Vienna', 'Berlin', 'Sarajevo', 'New York']\n",
    "continent = ['Europe', 'Europe', 'Europe', 'North America']\n",
    "\n",
    "for value in zip(country, city, continent):\n",
    "    print(value)"
   ]
  }
 ],
 "metadata": {
  "kernelspec": {
   "display_name": "Python 3.9.5 64-bit",
   "language": "python",
   "name": "python3"
  },
  "language_info": {
   "codemirror_mode": {
    "name": "ipython",
    "version": 3
   },
   "file_extension": ".py",
   "mimetype": "text/x-python",
   "name": "python",
   "nbconvert_exporter": "python",
   "pygments_lexer": "ipython3",
   "version": "3.9.5"
  },
  "orig_nbformat": 4,
  "vscode": {
   "interpreter": {
    "hash": "f9f85f796d01129d0dd105a088854619f454435301f6ffec2fea96ecbd9be4ac"
   }
  }
 },
 "nbformat": 4,
 "nbformat_minor": 2
}
