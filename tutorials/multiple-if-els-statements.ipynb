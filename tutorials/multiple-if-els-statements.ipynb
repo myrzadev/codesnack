{
 "cells": [
  {
   "cell_type": "markdown",
   "metadata": {},
   "source": [
    "### How to avoid **multiple if-else statements** in Python!\n",
    "Hi! 🚀 Get quick tips how to **avoid multiple if-else statements** in Python.\n",
    "\n",
    "Alternatives to If-Else statements that makes your code more readable and clean."
   ]
  },
  {
   "cell_type": "code",
   "execution_count": 1,
   "metadata": {},
   "outputs": [],
   "source": [
    "# Connect us on Twitter @myrzadev\n",
    "# Page 1/2\n",
    "\n",
    "def blue_function():\n",
    "    # Execute some code and print color name.\n",
    "    return \"Blue\"\n",
    "\n",
    "\n",
    "def red_function():\n",
    "    # Execute some code and print color name.\n",
    "    return \"Red\"\n",
    "\n",
    "\n",
    "def green_function():\n",
    "    # Execute some code and print color name.\n",
    "    return \"Green\""
   ]
  },
  {
   "cell_type": "markdown",
   "metadata": {},
   "source": [
    "Use Python dictionary!"
   ]
  },
  {
   "cell_type": "code",
   "execution_count": 2,
   "metadata": {},
   "outputs": [
    {
     "data": {
      "text/plain": [
       "'Red'"
      ]
     },
     "execution_count": 2,
     "metadata": {},
     "output_type": "execute_result"
    }
   ],
   "source": [
    "# Page 2/2\n",
    "\n",
    "colors_funcs = {\n",
    "    \"red\": red_function(),\n",
    "    \"blue\": blue_function(),\n",
    "    \"green\": green_function(),\n",
    "}\n",
    "\n",
    "colors_funcs.get(\"red\")"
   ]
  }
 ],
 "metadata": {
  "kernelspec": {
   "display_name": "Python 3.9.5 64-bit",
   "language": "python",
   "name": "python3"
  },
  "language_info": {
   "codemirror_mode": {
    "name": "ipython",
    "version": 3
   },
   "file_extension": ".py",
   "mimetype": "text/x-python",
   "name": "python",
   "nbconvert_exporter": "python",
   "pygments_lexer": "ipython3",
   "version": "3.9.5"
  },
  "orig_nbformat": 4,
  "vscode": {
   "interpreter": {
    "hash": "f9f85f796d01129d0dd105a088854619f454435301f6ffec2fea96ecbd9be4ac"
   }
  }
 },
 "nbformat": 4,
 "nbformat_minor": 2
}
